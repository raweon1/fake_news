{
 "cells": [
  {
   "cell_type": "code",
   "execution_count": 1,
   "metadata": {
    "collapsed": true
   },
   "outputs": [
    {
     "name": "stderr",
     "output_type": "stream",
     "text": [
      "C:\\Users\\Andre\\anaconda3\\envs\\EngML\\lib\\site-packages\\gensim\\similarities\\__init__.py:15: UserWarning: The gensim.similarities.levenshtein submodule is disabled, because the optional Levenshtein package <https://pypi.org/project/python-Levenshtein/> is unavailable. Install Levenhstein (e.g. `pip install python-Levenshtein`) to suppress this warning.\n",
      "  warnings.warn(msg)\n"
     ]
    }
   ],
   "source": [
    "import gensim\n",
    "from gensim.models.doc2vec import Doc2Vec, TaggedDocument\n",
    "import utils\n",
    "import pandas as pd\n",
    "import numpy as np\n",
    "import matplotlib.pyplot as plt\n",
    "import json"
   ]
  },
  {
   "cell_type": "code",
   "execution_count": 2,
   "outputs": [],
   "source": [
    "eids, dfs = utils.get_twitter_from_dir(\"data/Twitter/\", columns=[\"author_id\", \"created_at\", \"text\"])"
   ],
   "metadata": {
    "collapsed": false,
    "pycharm": {
     "name": "#%%\n"
    }
   }
  },
  {
   "cell_type": "code",
   "execution_count": 3,
   "outputs": [],
   "source": [
    "eids_, labels, _ = utils.get_twitter_conversations(\"data/Twitter.txt\")\n",
    "eid_label = {}\n",
    "for eid, label in zip(eids_, labels):\n",
    "    eid_label[eid] = label\n",
    "with open(\"models/eid_label_dict.json\", \"w\") as file:\n",
    "    json.dump(eid_label, file, indent=4)"
   ],
   "metadata": {
    "collapsed": false,
    "pycharm": {
     "name": "#%%\n"
    }
   }
  },
  {
   "cell_type": "code",
   "execution_count": 4,
   "outputs": [],
   "source": [
    "model = Doc2Vec.load(\"models/doc2vec_gensim_100.model\")\n",
    "with open(\"models/user_dict.json\", \"r\") as file:\n",
    "    user_dict = json.load(file)\n",
    "with open(\"models/eid_label_dict.json\", \"r\") as file:\n",
    "    eid_label_dict = json.load(file)\n",
    "with np.load(\"models/user_matrices.npz\") as mats:\n",
    "    user_mat = mats[\"user_mat\"]\n",
    "    user_bin_mat = mats[\"user_bin_mat\"]"
   ],
   "metadata": {
    "collapsed": false,
    "pycharm": {
     "name": "#%%\n"
    }
   }
  },
  {
   "cell_type": "code",
   "execution_count": 5,
   "outputs": [
    {
     "name": "stderr",
     "output_type": "stream",
     "text": [
      "C:\\Users\\Andre\\AppData\\Local\\Temp/ipykernel_3160/236128345.py:12: SettingWithCopyWarning: \n",
      "A value is trying to be set on a copy of a slice from a DataFrame.\n",
      "Try using .loc[row_indexer,col_indexer] = value instead\n",
      "\n",
      "See the caveats in the documentation: https://pandas.pydata.org/pandas-docs/stable/user_guide/indexing.html#returning-a-view-versus-a-copy\n",
      "  df[\"embedding\"] = embeddings\n",
      "C:\\Users\\Andre\\AppData\\Local\\Temp/ipykernel_3160/236128345.py:16: SettingWithCopyWarning: \n",
      "A value is trying to be set on a copy of a slice from a DataFrame.\n",
      "Try using .loc[row_indexer,col_indexer] = value instead\n",
      "\n",
      "See the caveats in the documentation: https://pandas.pydata.org/pandas-docs/stable/user_guide/indexing.html#returning-a-view-versus-a-copy\n",
      "  df[\"author\"] = df[\"author_id\"].apply(lambda x: user_dict[str(x)])\n",
      "C:\\Users\\Andre\\AppData\\Local\\Temp/ipykernel_3160/236128345.py:20: SettingWithCopyWarning: \n",
      "A value is trying to be set on a copy of a slice from a DataFrame.\n",
      "Try using .loc[row_indexer,col_indexer] = value instead\n",
      "\n",
      "See the caveats in the documentation: https://pandas.pydata.org/pandas-docs/stable/user_guide/indexing.html#returning-a-view-versus-a-copy\n",
      "  df[\"author_info\"] = df[\"author\"].apply(lambda x: user_bin_mat[x])\n"
     ]
    }
   ],
   "source": [
    "def get_document(texts, tokens_only=False):\n",
    "    for i, text in enumerate(texts):\n",
    "        tokens = gensim.utils.simple_preprocess(text)\n",
    "        if tokens_only:\n",
    "            yield tokens\n",
    "        else:\n",
    "            yield TaggedDocument(tokens, [i])\n",
    "\n",
    "def add_embedding(df, doc2word_model):\n",
    "    tokens = list(get_document(df[\"text\"].to_list(), True))\n",
    "    embeddings = [doc2word_model.infer_vector(tweet_tokens) for tweet_tokens in tokens]\n",
    "    df[\"embedding\"] = embeddings\n",
    "    return df\n",
    "\n",
    "def add_author(df, user_dict):\n",
    "    df[\"author\"] = df[\"author_id\"].apply(lambda x: user_dict[str(x)])\n",
    "    return df\n",
    "\n",
    "def add_user_information(df, user_bin_mat):\n",
    "    df[\"author_info\"] = df[\"author\"].apply(lambda x: user_bin_mat[x])\n",
    "    return df\n",
    "\n",
    "def to_model_input(df):\n",
    "    foo = df[[\"bin\", \"timedelta_previous_bin\", \"embedding\", \"author_info\"]]\\\n",
    "        .groupby(by=\"bin\")\\\n",
    "        .agg(count=(\"bin\", \"size\"),\n",
    "             timedelta_previous_bin=(\"timedelta_previous_bin\", \"max\"),\n",
    "             embedding=(\"embedding\", \"mean\"),\n",
    "             author_info=(\"author_info\", \"mean\"))\\\n",
    "        .reset_index()\n",
    "    return np.vstack(foo.drop(\"bin\", axis=1).apply(lambda x: np.hstack(x.values), axis=1).values)\n",
    "\n",
    "def to_model_user_input(df, user_mat):\n",
    "    return np.vstack(df[\"author\"].apply(lambda x: user_mat[x]).values)\n",
    "\n",
    "\n",
    "model_data = []\n",
    "bin_size = 60 * 60 * 12 #  12 hours\n",
    "threshold = 2 * 90 #  180 bins = 180 * 12 hours = 90 days\n",
    "for i, (eid, df) in enumerate(zip(eids, dfs)):\n",
    "    df = utils.cut_bins(utils.add_bins(utils.timedelta(df), bin_size), threshold)\n",
    "    df = add_embedding(df, model)\n",
    "    df = add_author(df, user_dict)\n",
    "    df = add_user_information(df, user_bin_mat)\n",
    "    model_data.append([eid, eid_label_dict[eid], to_model_input(df), to_model_user_input(df, user_mat)])"
   ],
   "metadata": {
    "collapsed": false,
    "pycharm": {
     "name": "#%%\n"
    }
   }
  },
  {
   "cell_type": "code",
   "execution_count": 6,
   "outputs": [
    {
     "data": {
      "text/plain": "992"
     },
     "execution_count": 6,
     "metadata": {},
     "output_type": "execute_result"
    }
   ],
   "source": [
    "len(model_data)"
   ],
   "metadata": {
    "collapsed": false,
    "pycharm": {
     "name": "#%%\n"
    }
   }
  },
  {
   "cell_type": "code",
   "execution_count": 7,
   "outputs": [],
   "source": [
    "dataset_df = pd.DataFrame(model_data, columns=[\"eid\", \"label\", \"x\", \"y\"])"
   ],
   "metadata": {
    "collapsed": false,
    "pycharm": {
     "name": "#%%\n"
    }
   }
  },
  {
   "cell_type": "code",
   "execution_count": 29,
   "outputs": [],
   "source": [
    "data_np = dataset_df.to_numpy()"
   ],
   "metadata": {
    "collapsed": false,
    "pycharm": {
     "name": "#%%\n"
    }
   }
  },
  {
   "cell_type": "code",
   "execution_count": 27,
   "outputs": [],
   "source": [
    "dataset_df.to_csv(\"data/processed/data_bin12h_cut180_100w_20xu_50yu.npz\", index=False)"
   ],
   "metadata": {
    "collapsed": false,
    "pycharm": {
     "name": "#%%\n"
    }
   }
  },
  {
   "cell_type": "code",
   "execution_count": 8,
   "outputs": [],
   "source": [
    "np.save(\"data/processed/data_bin12h_cut180_100w_20xu_50yu.npy\", dataset_df.to_numpy())"
   ],
   "metadata": {
    "collapsed": false,
    "pycharm": {
     "name": "#%%\n"
    }
   }
  },
  {
   "cell_type": "code",
   "execution_count": 39,
   "outputs": [
    {
     "data": {
      "text/plain": "                          0  1  \\\n0                 Airfrance  0   \n1                  Airliner  0   \n2                    Amanda  0   \n3                   AnnieLe  0   \n4    BarnesNobleObamaMonkey  0   \n..                      ... ..   \n987            Turkishcrash  0   \n988          twittersummize  0   \n989                 Vanessa  0   \n990        WesternSpaghetti  0   \n991                westNile  0   \n\n                                                     2  \\\n0    [[31.0, 0.0, -0.04933199658989906, 0.100782543...   \n1    [[35.0, 0.0, -0.09998174756765366, 0.010489981...   \n2    [[2.0, 0.0, -0.022407064214348793, -0.11954444...   \n3    [[1.0, 0.0, 0.06573211401700974, 0.16498757898...   \n4    [[2.0, 0.0, -0.08572602272033691, 0.1293545961...   \n..                                                 ...   \n987  [[596.0, 0.0, -0.018301477655768394, 0.0502989...   \n988  [[45.0, 0.0, -0.003588458988815546, 0.11465315...   \n989  [[22.0, 0.0, 0.03274635970592499, 0.1191900223...   \n990  [[1.0, 0.0, -0.0018492384115234017, 0.08881287...   \n991  [[1.0, 0.0, 0.029654264450073242, 0.0530045330...   \n\n                                                     3  \n0    [[5.728417000232961e-07, 7.497009531531812e-12...  \n1    [[2.8766544422301893e-07, 6.536015973668471e-1...  \n2    [[0.0002461661780663931, 3.0744367038198896e-0...  \n3    [[1.6659823040681458e-10, 2.4046260842342657e-...  \n4    [[3.3745972849026395e-06, 2.2055798996612257e-...  \n..                                                 ...  \n987  [[3.328299035345699e-06, 8.289281424581946e-11...  \n988  [[4.780339256276481e-07, 8.799779182761624e-10...  \n989  [[0.003943954130925907, 1.7515275933934912e-06...  \n990  [[1.3914953201835611e-10, 1.5261085385096275e-...  \n991  [[2.5232117354068566e-05, 4.571706972675657e-0...  \n\n[992 rows x 4 columns]",
      "text/html": "<div>\n<style scoped>\n    .dataframe tbody tr th:only-of-type {\n        vertical-align: middle;\n    }\n\n    .dataframe tbody tr th {\n        vertical-align: top;\n    }\n\n    .dataframe thead th {\n        text-align: right;\n    }\n</style>\n<table border=\"1\" class=\"dataframe\">\n  <thead>\n    <tr style=\"text-align: right;\">\n      <th></th>\n      <th>0</th>\n      <th>1</th>\n      <th>2</th>\n      <th>3</th>\n    </tr>\n  </thead>\n  <tbody>\n    <tr>\n      <th>0</th>\n      <td>Airfrance</td>\n      <td>0</td>\n      <td>[[31.0, 0.0, -0.04933199658989906, 0.100782543...</td>\n      <td>[[5.728417000232961e-07, 7.497009531531812e-12...</td>\n    </tr>\n    <tr>\n      <th>1</th>\n      <td>Airliner</td>\n      <td>0</td>\n      <td>[[35.0, 0.0, -0.09998174756765366, 0.010489981...</td>\n      <td>[[2.8766544422301893e-07, 6.536015973668471e-1...</td>\n    </tr>\n    <tr>\n      <th>2</th>\n      <td>Amanda</td>\n      <td>0</td>\n      <td>[[2.0, 0.0, -0.022407064214348793, -0.11954444...</td>\n      <td>[[0.0002461661780663931, 3.0744367038198896e-0...</td>\n    </tr>\n    <tr>\n      <th>3</th>\n      <td>AnnieLe</td>\n      <td>0</td>\n      <td>[[1.0, 0.0, 0.06573211401700974, 0.16498757898...</td>\n      <td>[[1.6659823040681458e-10, 2.4046260842342657e-...</td>\n    </tr>\n    <tr>\n      <th>4</th>\n      <td>BarnesNobleObamaMonkey</td>\n      <td>0</td>\n      <td>[[2.0, 0.0, -0.08572602272033691, 0.1293545961...</td>\n      <td>[[3.3745972849026395e-06, 2.2055798996612257e-...</td>\n    </tr>\n    <tr>\n      <th>...</th>\n      <td>...</td>\n      <td>...</td>\n      <td>...</td>\n      <td>...</td>\n    </tr>\n    <tr>\n      <th>987</th>\n      <td>Turkishcrash</td>\n      <td>0</td>\n      <td>[[596.0, 0.0, -0.018301477655768394, 0.0502989...</td>\n      <td>[[3.328299035345699e-06, 8.289281424581946e-11...</td>\n    </tr>\n    <tr>\n      <th>988</th>\n      <td>twittersummize</td>\n      <td>0</td>\n      <td>[[45.0, 0.0, -0.003588458988815546, 0.11465315...</td>\n      <td>[[4.780339256276481e-07, 8.799779182761624e-10...</td>\n    </tr>\n    <tr>\n      <th>989</th>\n      <td>Vanessa</td>\n      <td>0</td>\n      <td>[[22.0, 0.0, 0.03274635970592499, 0.1191900223...</td>\n      <td>[[0.003943954130925907, 1.7515275933934912e-06...</td>\n    </tr>\n    <tr>\n      <th>990</th>\n      <td>WesternSpaghetti</td>\n      <td>0</td>\n      <td>[[1.0, 0.0, -0.0018492384115234017, 0.08881287...</td>\n      <td>[[1.3914953201835611e-10, 1.5261085385096275e-...</td>\n    </tr>\n    <tr>\n      <th>991</th>\n      <td>westNile</td>\n      <td>0</td>\n      <td>[[1.0, 0.0, 0.029654264450073242, 0.0530045330...</td>\n      <td>[[2.5232117354068566e-05, 4.571706972675657e-0...</td>\n    </tr>\n  </tbody>\n</table>\n<p>992 rows × 4 columns</p>\n</div>"
     },
     "execution_count": 39,
     "metadata": {},
     "output_type": "execute_result"
    }
   ],
   "source": [
    "pd.DataFrame(np.load(\"data/processed/data_bin12h_cut180_100w_20xu_50yu.npy\", allow_pickle=True))"
   ],
   "metadata": {
    "collapsed": false,
    "pycharm": {
     "name": "#%%\n"
    }
   }
  }
 ],
 "metadata": {
  "kernelspec": {
   "display_name": "Python 3",
   "language": "python",
   "name": "python3"
  },
  "language_info": {
   "codemirror_mode": {
    "name": "ipython",
    "version": 2
   },
   "file_extension": ".py",
   "mimetype": "text/x-python",
   "name": "python",
   "nbconvert_exporter": "python",
   "pygments_lexer": "ipython2",
   "version": "2.7.6"
  }
 },
 "nbformat": 4,
 "nbformat_minor": 0
}