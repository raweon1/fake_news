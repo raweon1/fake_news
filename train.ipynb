{
 "cells": [
  {
   "cell_type": "code",
   "execution_count": 11,
   "metadata": {
    "collapsed": true
   },
   "outputs": [],
   "source": [
    "import utils\n",
    "import torch\n",
    "import torch.nn as nn\n",
    "import numpy as np\n",
    "from torch.utils.data import Dataset"
   ]
  },
  {
   "cell_type": "code",
   "execution_count": 21,
   "outputs": [],
   "source": [
    "class FakeNewsDataset(Dataset):\n",
    "    def __init__(self):\n",
    "        super(FakeNewsDataset, self).__init__()\n",
    "        self.data = np.load(\"data/processed/data_bin12h_cut180_100w_20xu_50yu.npy\", allow_pickle=True)\n",
    "\n",
    "    def __len__(self):\n",
    "        return self.data.shape[0]\n",
    "\n",
    "    def __getitem__(self, idx):\n",
    "        if idx < 0:\n",
    "            idx = len(self) + idx\n",
    "        return torch.FloatTensor(self.data[idx][2]), torch.FloatTensor(self.data[idx][3]), self.data[idx][1]\n",
    "\n",
    "fake_news_data = FakeNewsDataset()"
   ],
   "metadata": {
    "collapsed": false,
    "pycharm": {
     "name": "#%%\n"
    }
   }
  },
  {
   "cell_type": "code",
   "execution_count": 22,
   "outputs": [
    {
     "name": "stdout",
     "output_type": "stream",
     "text": [
      "torch.Size([65, 122]) torch.Size([161, 50]) 0\n"
     ]
    }
   ],
   "source": [
    "x, y, label = fake_news_data[2]\n",
    "print(x.shape, y.shape, label)"
   ],
   "metadata": {
    "collapsed": false,
    "pycharm": {
     "name": "#%%\n"
    }
   }
  },
  {
   "cell_type": "code",
   "execution_count": 27,
   "outputs": [
    {
     "data": {
      "text/plain": "torch.Size([2, 65, 122])"
     },
     "execution_count": 27,
     "metadata": {},
     "output_type": "execute_result"
    }
   ],
   "source": [
    "torch.repeat_interleave(x.unsqueeze(0), 2, dim=0).shape"
   ],
   "metadata": {
    "collapsed": false,
    "pycharm": {
     "name": "#%%\n"
    }
   }
  },
  {
   "cell_type": "code",
   "execution_count": 37,
   "outputs": [],
   "source": [
    "class Capture(nn.Module):\n",
    "    def __init__(self, feature_dim, feature_embedding_dim, lstm_hidden_dim, article_embedding_dim):\n",
    "        super(Capture, self).__init__()\n",
    "        self.input_embedding = nn.Sequential(\n",
    "            nn.Linear(feature_dim, feature_embedding_dim),\n",
    "            nn.Tanh(),\n",
    "        )\n",
    "        self.lstm = nn.LSTM(feature_embedding_dim, lstm_hidden_dim, batch_first=True)\n",
    "        self.output_embedding = nn.Sequential(\n",
    "            nn.Linear(lstm_hidden_dim, article_embedding_dim),\n",
    "            nn.Tanh()\n",
    "        )\n",
    "\n",
    "    def forward(self, x):\n",
    "        x = self.input_embedding(x)\n",
    "        _, (x, _) = self.lstm(x)\n",
    "        x = self.output_embedding(x[-1])\n",
    "        return x\n",
    "\n",
    "class Score(nn.Module):\n",
    "    def __init__(self, user_dim, user_embedding_dim):\n",
    "        super(Score, self).__init__()\n",
    "        self.user_embedding = nn.Sequential(\n",
    "            nn.Linear(user_dim, user_embedding_dim), # add regularization\n",
    "            nn.Tanh()\n",
    "        )\n",
    "        self.user_score = nn.Sequential(\n",
    "            nn.Linear(user_embedding_dim, 1),\n",
    "            nn.Sigmoid()\n",
    "        )\n",
    "\n",
    "    def forward(self, y):\n",
    "        y_hat = self.user_embedding(y)\n",
    "        s = self.user_score(y_hat)\n",
    "        p = s.mean(dim=1)\n",
    "        return p, s, y_hat\n",
    "\n",
    "class Integrate(nn.Module):\n",
    "    def __init__(self, capture_dim):\n",
    "        super(Integrate, self).__init__()\n",
    "        self.net = nn.Sequential(\n",
    "            nn.Linear(capture_dim + 1, 1),\n",
    "            #nn.Sigmoid() #  disabled, part of loss function\n",
    "        )\n",
    "\n",
    "    def forward(self, x, y):\n",
    "        v = torch.cat((x, y), 1)\n",
    "        v = self.net(v)\n",
    "        return v\n",
    "\n",
    "\n",
    "class CSI(nn.Module):\n",
    "    def __init__(self, feature_dim, feature_embedding_dim, lstm_hidden_dim, article_embedding_dim,\n",
    "                 user_dim, user_embedding_dim):\n",
    "        super(CSI, self).__init__()\n",
    "        self.capture = Capture(feature_dim, feature_embedding_dim, lstm_hidden_dim, article_embedding_dim)\n",
    "        self.score = Score(user_dim, user_embedding_dim)\n",
    "        self.integrate = Integrate(article_embedding_dim)\n",
    "\n",
    "    def forward(self, x, y):\n",
    "        x = self.capture(x)\n",
    "        y, _, _ = self.score(y)\n",
    "        l = self.integrate(x, y)\n",
    "        return l\n"
   ],
   "metadata": {
    "collapsed": false,
    "pycharm": {
     "name": "#%%\n"
    }
   }
  },
  {
   "cell_type": "code",
   "execution_count": 38,
   "outputs": [],
   "source": [
    "x = torch.repeat_interleave(x.unsqueeze(0), 2, dim=0)\n",
    "y = torch.repeat_interleave(y.unsqueeze(0), 2, dim=0)"
   ],
   "metadata": {
    "collapsed": false,
    "pycharm": {
     "name": "#%%\n"
    }
   }
  },
  {
   "cell_type": "code",
   "execution_count": 39,
   "outputs": [
    {
     "data": {
      "text/plain": "tensor([[0.0041],\n        [0.0041]], grad_fn=<AddmmBackward0>)"
     },
     "execution_count": 39,
     "metadata": {},
     "output_type": "execute_result"
    }
   ],
   "source": [
    "csi = CSI(122, 100, 100, 50, 50, 50)\n",
    "csi(x, y)"
   ],
   "metadata": {
    "collapsed": false,
    "pycharm": {
     "name": "#%%\n"
    }
   }
  }
 ],
 "metadata": {
  "kernelspec": {
   "display_name": "Python 3",
   "language": "python",
   "name": "python3"
  },
  "language_info": {
   "codemirror_mode": {
    "name": "ipython",
    "version": 2
   },
   "file_extension": ".py",
   "mimetype": "text/x-python",
   "name": "python",
   "nbconvert_exporter": "python",
   "pygments_lexer": "ipython2",
   "version": "2.7.6"
  }
 },
 "nbformat": 4,
 "nbformat_minor": 0
}