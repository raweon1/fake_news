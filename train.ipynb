{
 "cells": [
  {
   "cell_type": "code",
   "execution_count": 1,
   "metadata": {
    "collapsed": true
   },
   "outputs": [],
   "source": [
    "from itertools import chain, islice\n",
    "import utils\n",
    "import torch\n",
    "import torch.nn as nn\n",
    "import numpy as np\n",
    "from torch.utils.data import Dataset, DataLoader\n",
    "import random\n",
    "from sklearn.model_selection import train_test_split"
   ]
  },
  {
   "cell_type": "code",
   "execution_count": 2,
   "outputs": [],
   "source": [
    "class FakeNewsDataset(Dataset):\n",
    "    def __init__(self, root):\n",
    "        super(FakeNewsDataset, self).__init__()\n",
    "        self.data = np.load(root, allow_pickle=True)\n",
    "\n",
    "    def __len__(self):\n",
    "        return self.data.shape[0]\n",
    "\n",
    "    def __getitem__(self, idx):\n",
    "        if idx < 0:\n",
    "            idx = len(self) + idx\n",
    "        return torch.FloatTensor(self.data[idx][2]), torch.FloatTensor(self.data[idx][3]), self.data[idx][1]\n",
    "\n",
    "name = \"data/processed/data_bin1h_cut2160_100w_20xu_50yu.npy\"\n",
    "fake_news_data = FakeNewsDataset(name)"
   ],
   "metadata": {
    "collapsed": false,
    "pycharm": {
     "name": "#%%\n"
    }
   }
  },
  {
   "cell_type": "code",
   "execution_count": 3,
   "outputs": [
    {
     "name": "stdout",
     "output_type": "stream",
     "text": [
      "torch.Size([128, 122]) torch.Size([161, 50]) 0\n"
     ]
    }
   ],
   "source": [
    "x, y, label = fake_news_data[2]\n",
    "print(x.shape, y.shape, label)\n"
   ],
   "metadata": {
    "collapsed": false,
    "pycharm": {
     "name": "#%%\n"
    }
   }
  },
  {
   "cell_type": "code",
   "execution_count": 4,
   "outputs": [],
   "source": [
    "class Capture(nn.Module):\n",
    "    def __init__(self, feature_dim, feature_embedding_dim, lstm_hidden_dim, article_embedding_dim):\n",
    "        super(Capture, self).__init__()\n",
    "        self.input_embedding = nn.Sequential(\n",
    "            nn.Linear(feature_dim, feature_embedding_dim),\n",
    "            nn.Tanh(),\n",
    "            nn.Dropout(0.2)\n",
    "        )\n",
    "        self.lstm = nn.LSTM(feature_embedding_dim, lstm_hidden_dim, batch_first=True)\n",
    "        self.output_embedding = nn.Sequential(\n",
    "            nn.Linear(lstm_hidden_dim, article_embedding_dim),\n",
    "            nn.Tanh(),\n",
    "            nn.Dropout(0.2)\n",
    "        )\n",
    "\n",
    "    def forward(self, x):\n",
    "        x = self.input_embedding(x)\n",
    "        _, (x, _) = self.lstm(x)\n",
    "        x = self.output_embedding(x[-1])\n",
    "        return x\n",
    "\n",
    "class Score(nn.Module):\n",
    "    def __init__(self, user_dim, user_embedding_dim):\n",
    "        super(Score, self).__init__()\n",
    "        self.user_embedding = nn.Sequential(\n",
    "            nn.Linear(user_dim, user_embedding_dim), # add regularization\n",
    "            nn.Tanh()\n",
    "        )\n",
    "        self.user_score = nn.Sequential(\n",
    "            nn.Linear(user_embedding_dim, 1),\n",
    "            nn.Sigmoid()\n",
    "        )\n",
    "\n",
    "    def forward(self, y):\n",
    "        y_hat = self.user_embedding(y)\n",
    "        s = self.user_score(y_hat)\n",
    "        p = s.mean(dim=1)\n",
    "        return p, s, y_hat\n",
    "\n",
    "class Integrate(nn.Module):\n",
    "    def __init__(self, capture_dim):\n",
    "        super(Integrate, self).__init__()\n",
    "        self.net = nn.Sequential(\n",
    "            nn.Linear(capture_dim + 1, 1),\n",
    "            #nn.Sigmoid() #  disabled, part of loss function\n",
    "        )\n",
    "\n",
    "    def forward(self, x, y):\n",
    "        v = torch.cat((x, y), 1)\n",
    "        v = self.net(v)\n",
    "        return v\n",
    "\n",
    "\n",
    "class CSI(nn.Module):\n",
    "    def __init__(self, feature_dim, feature_embedding_dim, lstm_hidden_dim, article_embedding_dim,\n",
    "                 user_dim, user_embedding_dim):\n",
    "        super(CSI, self).__init__()\n",
    "        self.capture = Capture(feature_dim, feature_embedding_dim, lstm_hidden_dim, article_embedding_dim)\n",
    "        self.score = Score(user_dim, user_embedding_dim)\n",
    "        self.integrate = Integrate(article_embedding_dim)\n",
    "\n",
    "    def forward(self, x, y):\n",
    "        x = self.capture(x)\n",
    "        y, _, _ = self.score(y)\n",
    "        l = self.integrate(x, y)\n",
    "        return l"
   ],
   "metadata": {
    "collapsed": false,
    "pycharm": {
     "name": "#%%\n"
    }
   }
  },
  {
   "cell_type": "code",
   "execution_count": 5,
   "outputs": [
    {
     "data": {
      "text/plain": "CSI(\n  (capture): Capture(\n    (input_embedding): Sequential(\n      (0): Linear(in_features=122, out_features=100, bias=True)\n      (1): Tanh()\n      (2): Dropout(p=0.2, inplace=False)\n    )\n    (lstm): LSTM(100, 100, batch_first=True)\n    (output_embedding): Sequential(\n      (0): Linear(in_features=100, out_features=100, bias=True)\n      (1): Tanh()\n      (2): Dropout(p=0.2, inplace=False)\n    )\n  )\n  (score): Score(\n    (user_embedding): Sequential(\n      (0): Linear(in_features=50, out_features=100, bias=True)\n      (1): Tanh()\n    )\n    (user_score): Sequential(\n      (0): Linear(in_features=100, out_features=1, bias=True)\n      (1): Sigmoid()\n    )\n  )\n  (integrate): Integrate(\n    (net): Sequential(\n      (0): Linear(in_features=101, out_features=1, bias=True)\n    )\n  )\n)"
     },
     "execution_count": 5,
     "metadata": {},
     "output_type": "execute_result"
    }
   ],
   "source": [
    "device = \"cuda\" if torch.cuda.is_available() else \"cpu\"\n",
    "csi = CSI(122, 100, 100, 100, 50, 100)\n",
    "#csi.load_state_dict(torch.load(f\"models/csi.pt\", map_location=torch.device('cpu')))\n",
    "csi.to(device)"
   ],
   "metadata": {
    "collapsed": false,
    "pycharm": {
     "name": "#%%\n"
    }
   }
  },
  {
   "cell_type": "code",
   "execution_count": 8,
   "outputs": [
    {
     "data": {
      "text/plain": "108503"
     },
     "execution_count": 8,
     "metadata": {},
     "output_type": "execute_result"
    }
   ],
   "source": [
    "pytorch_total_params = sum(p.numel() for p in csi.parameters() if p.requires_grad)\n",
    "pytorch_total_params"
   ],
   "metadata": {
    "collapsed": false,
    "pycharm": {
     "name": "#%%\n"
    }
   }
  },
  {
   "cell_type": "code",
   "execution_count": 6,
   "outputs": [],
   "source": [
    "def grouper(iterable, n):\n",
    "    iterable = iter(iterable)\n",
    "    try:\n",
    "        while True:\n",
    "            yield list(chain((next(iterable),), islice(iterable, n - 1)))\n",
    "    except StopIteration:\n",
    "        return\n",
    "index_list = list(range(len(fake_news_data)))\n",
    "x_train, x_test = train_test_split(index_list, test_size=0.2, random_state=420)"
   ],
   "metadata": {
    "collapsed": false,
    "pycharm": {
     "name": "#%%\n"
    }
   }
  },
  {
   "cell_type": "code",
   "execution_count": 7,
   "outputs": [
    {
     "name": "stdout",
     "output_type": "stream",
     "text": [
      "Batch 1/21: 0.6965411901473999\n",
      "Epoch 1/30: 0.5370955921354748\n",
      "Batch 1/21: 0.6281033158302307\n",
      "Epoch 2/30: 0.4885947718506768\n",
      "Batch 1/21: 0.6639443635940552\n",
      "Epoch 3/30: 0.4698239124956585\n",
      "Batch 1/21: 0.6195600032806396\n",
      "Epoch 4/30: 0.4541335105895996\n",
      "Batch 1/21: 0.7003993391990662\n",
      "Epoch 5/30: 0.44634845285188585\n",
      "Batch 1/21: 0.5354519486427307\n",
      "Epoch 6/30: 0.4433618372394925\n",
      "Batch 1/21: 0.629942774772644\n",
      "Epoch 7/30: 0.4199687199933188\n",
      "Batch 1/21: 0.4480827748775482\n",
      "Epoch 8/30: 0.39924075206120807\n",
      "Batch 1/21: 0.44649407267570496\n",
      "Epoch 9/30: 0.3992875459648314\n",
      "Batch 1/21: 0.4752514064311981\n",
      "Epoch 10/30: 0.38192891648837496\n",
      "Batch 1/21: 0.4371241629123688\n",
      "Epoch 11/30: 0.3613453053292774\n",
      "Batch 1/21: 0.48646754026412964\n",
      "Epoch 12/30: 0.38374326484543936\n",
      "Batch 1/21: 0.43573570251464844\n",
      "Epoch 13/30: 0.3695550887357621\n",
      "Batch 1/21: 0.37570542097091675\n",
      "Epoch 14/30: 0.3436501891840072\n",
      "Batch 1/21: 0.5979343056678772\n",
      "Epoch 15/30: 0.3571427024546124\n",
      "Batch 1/21: 0.5215819478034973\n",
      "Epoch 16/30: 0.3335301876068115\n",
      "Batch 1/21: 0.3946027457714081\n",
      "Epoch 17/30: 0.31749857607341947\n",
      "Batch 1/21: 0.3389052748680115\n",
      "Epoch 18/30: 0.3178709660257612\n",
      "Batch 1/21: 0.4512341022491455\n",
      "Epoch 19/30: 0.31693816610745024\n",
      "Batch 1/21: 0.33857056498527527\n",
      "Epoch 20/30: 0.294474449186098\n",
      "Batch 1/21: 0.2641817629337311\n",
      "Epoch 21/30: 0.32072381533327554\n",
      "Batch 1/21: 0.4462253451347351\n",
      "Epoch 22/30: 0.28762546536468325\n",
      "Batch 1/21: 0.2688634991645813\n",
      "Epoch 23/30: 0.2849408373946235\n",
      "Batch 1/21: 0.3657725155353546\n",
      "Epoch 24/30: 0.2826913297176361\n",
      "Batch 1/21: 0.2710776925086975\n",
      "Epoch 25/30: 0.30024112122399466\n",
      "Batch 1/21: 0.4356258511543274\n",
      "Epoch 26/30: 0.28813393130188897\n",
      "Batch 1/21: 0.42377567291259766\n",
      "Epoch 27/30: 0.2609438867796035\n",
      "Batch 1/21: 0.2666213810443878\n",
      "Epoch 28/30: 0.2494350586618696\n",
      "Batch 1/21: 0.22125010192394257\n",
      "Epoch 29/30: 0.3779891140404202\n",
      "Batch 1/21: 0.5256106853485107\n",
      "Epoch 30/30: 0.2993055780728658\n"
     ]
    }
   ],
   "source": [
    "csi.train()\n",
    "batch_size = 48\n",
    "n_epochs = 30\n",
    "n_batches = int(len(fake_news_data) / batch_size + 1)\n",
    "csi.train()\n",
    "optimizer = torch.optim.Adam(csi.parameters(), lr=0.001)\n",
    "criterion = nn.BCEWithLogitsLoss()\n",
    "for i_epoch in range(n_epochs):\n",
    "    random.shuffle(x_train)\n",
    "    epoch_loss = 0\n",
    "    for i_batch, indices in enumerate(grouper(x_train, batch_size)):\n",
    "        labels = []\n",
    "        outputs = []\n",
    "        for idx in indices:\n",
    "            x, y, label = fake_news_data[idx]\n",
    "            x = x.unsqueeze(0).to(device)\n",
    "            y = y.unsqueeze(0).to(device)\n",
    "            label = torch.FloatTensor([[int(label)]]).to(device)\n",
    "            output = csi(x, y)\n",
    "            labels.append(label)\n",
    "            outputs.append(output)\n",
    "        labels = torch.vstack(labels)\n",
    "        outputs = torch.vstack(outputs)\n",
    "        # print(outputs, labels)\n",
    "        loss = criterion(outputs, labels) + 0.001 / 2 * torch.norm(next(csi.score.user_embedding[0].parameters()))\n",
    "        optimizer.zero_grad()\n",
    "        loss.backward()\n",
    "        optimizer.step()\n",
    "        epoch_loss += loss.item()\n",
    "        if i_batch % 25 == 0:\n",
    "            print(f\"Batch {i_batch + 1}/{n_batches}: {loss.item()}\")\n",
    "    if i_epoch % 1 == 0:\n",
    "        print(f\"Epoch {i_epoch + 1}/{n_epochs}: {epoch_loss / n_batches}\")"
   ],
   "metadata": {
    "collapsed": false,
    "pycharm": {
     "name": "#%%\n"
    }
   }
  },
  {
   "cell_type": "code",
   "execution_count": 8,
   "outputs": [
    {
     "data": {
      "text/plain": "0.7236180904522613"
     },
     "execution_count": 8,
     "metadata": {},
     "output_type": "execute_result"
    }
   ],
   "source": [
    "csi.eval()\n",
    "result = []\n",
    "for i in x_test:\n",
    "    x, y, label = fake_news_data[i]\n",
    "    x = x.unsqueeze(0).to(device)\n",
    "    y = y.unsqueeze(0).to(device)\n",
    "    label = int(label)\n",
    "    with torch.no_grad():\n",
    "        output = csi(x, y)\n",
    "    result.append((label, torch.sigmoid(output).item()))\n",
    "count = 0\n",
    "for label, p_label in result:\n",
    "    p_label = round(p_label)\n",
    "    if p_label == label:\n",
    "        count += 1\n",
    "count / len(x_test)"
   ],
   "metadata": {
    "collapsed": false,
    "pycharm": {
     "name": "#%%\n"
    }
   }
  },
  {
   "cell_type": "code",
   "execution_count": 14,
   "outputs": [],
   "source": [
    "torch.save(csi.state_dict(), f\"models/csi.pt\")"
   ],
   "metadata": {
    "collapsed": false,
    "pycharm": {
     "name": "#%%\n"
    }
   }
  }
 ],
 "metadata": {
  "kernelspec": {
   "display_name": "Python 3",
   "language": "python",
   "name": "python3"
  },
  "language_info": {
   "codemirror_mode": {
    "name": "ipython",
    "version": 2
   },
   "file_extension": ".py",
   "mimetype": "text/x-python",
   "name": "python",
   "nbconvert_exporter": "python",
   "pygments_lexer": "ipython2",
   "version": "2.7.6"
  }
 },
 "nbformat": 4,
 "nbformat_minor": 0
}