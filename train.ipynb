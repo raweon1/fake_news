{
 "cells": [
  {
   "cell_type": "code",
   "execution_count": 29,
   "metadata": {
    "collapsed": true
   },
   "outputs": [],
   "source": [
    "from itertools import chain, islice\n",
    "import utils\n",
    "import torch\n",
    "import torch.nn as nn\n",
    "import numpy as np\n",
    "from torch.utils.data import Dataset, DataLoader\n",
    "import random"
   ]
  },
  {
   "cell_type": "code",
   "execution_count": 2,
   "outputs": [],
   "source": [
    "class FakeNewsDataset(Dataset):\n",
    "    def __init__(self):\n",
    "        super(FakeNewsDataset, self).__init__()\n",
    "        self.data = np.load(\"data/processed/data_bin12h_cut180_100w_20xu_50yu.npy\", allow_pickle=True)\n",
    "\n",
    "    def __len__(self):\n",
    "        return self.data.shape[0]\n",
    "\n",
    "    def __getitem__(self, idx):\n",
    "        if idx < 0:\n",
    "            idx = len(self) + idx\n",
    "        return torch.FloatTensor(self.data[idx][2]), torch.FloatTensor(self.data[idx][3]), self.data[idx][1]\n",
    "\n",
    "fake_news_data = FakeNewsDataset()"
   ],
   "metadata": {
    "collapsed": false,
    "pycharm": {
     "name": "#%%\n"
    }
   }
  },
  {
   "cell_type": "code",
   "execution_count": 3,
   "outputs": [
    {
     "name": "stdout",
     "output_type": "stream",
     "text": [
      "torch.Size([65, 122]) torch.Size([161, 50]) 0\n"
     ]
    }
   ],
   "source": [
    "x, y, label = fake_news_data[2]\n",
    "print(x.shape, y.shape, label)\n"
   ],
   "metadata": {
    "collapsed": false,
    "pycharm": {
     "name": "#%%\n"
    }
   }
  },
  {
   "cell_type": "code",
   "execution_count": 4,
   "outputs": [],
   "source": [
    "class Capture(nn.Module):\n",
    "    def __init__(self, feature_dim, feature_embedding_dim, lstm_hidden_dim, article_embedding_dim):\n",
    "        super(Capture, self).__init__()\n",
    "        self.input_embedding = nn.Sequential(\n",
    "            nn.Linear(feature_dim, feature_embedding_dim),\n",
    "            nn.Tanh(),\n",
    "        )\n",
    "        self.lstm = nn.LSTM(feature_embedding_dim, lstm_hidden_dim, batch_first=True)\n",
    "        self.output_embedding = nn.Sequential(\n",
    "            nn.Linear(lstm_hidden_dim, article_embedding_dim),\n",
    "            nn.Tanh()\n",
    "        )\n",
    "\n",
    "    def forward(self, x):\n",
    "        x = self.input_embedding(x)\n",
    "        _, (x, _) = self.lstm(x)\n",
    "        x = self.output_embedding(x[-1])\n",
    "        return x\n",
    "\n",
    "class Score(nn.Module):\n",
    "    def __init__(self, user_dim, user_embedding_dim):\n",
    "        super(Score, self).__init__()\n",
    "        self.user_embedding = nn.Sequential(\n",
    "            nn.Linear(user_dim, user_embedding_dim), # add regularization\n",
    "            nn.Tanh()\n",
    "        )\n",
    "        self.user_score = nn.Sequential(\n",
    "            nn.Linear(user_embedding_dim, 1),\n",
    "            nn.Sigmoid()\n",
    "        )\n",
    "\n",
    "    def forward(self, y):\n",
    "        y_hat = self.user_embedding(y)\n",
    "        s = self.user_score(y_hat)\n",
    "        p = s.mean(dim=1)\n",
    "        return p, s, y_hat\n",
    "\n",
    "class Integrate(nn.Module):\n",
    "    def __init__(self, capture_dim):\n",
    "        super(Integrate, self).__init__()\n",
    "        self.net = nn.Sequential(\n",
    "            nn.Linear(capture_dim + 1, 1),\n",
    "            #nn.Sigmoid() #  disabled, part of loss function\n",
    "        )\n",
    "\n",
    "    def forward(self, x, y):\n",
    "        v = torch.cat((x, y), 1)\n",
    "        v = self.net(v)\n",
    "        return v\n",
    "\n",
    "\n",
    "class CSI(nn.Module):\n",
    "    def __init__(self, feature_dim, feature_embedding_dim, lstm_hidden_dim, article_embedding_dim,\n",
    "                 user_dim, user_embedding_dim):\n",
    "        super(CSI, self).__init__()\n",
    "        self.capture = Capture(feature_dim, feature_embedding_dim, lstm_hidden_dim, article_embedding_dim)\n",
    "        self.score = Score(user_dim, user_embedding_dim)\n",
    "        self.integrate = Integrate(article_embedding_dim)\n",
    "\n",
    "    def forward(self, x, y):\n",
    "        x = self.capture(x)\n",
    "        y, _, _ = self.score(y)\n",
    "        l = self.integrate(x, y)\n",
    "        return l"
   ],
   "metadata": {
    "collapsed": false,
    "pycharm": {
     "name": "#%%\n"
    }
   }
  },
  {
   "cell_type": "code",
   "execution_count": 34,
   "outputs": [
    {
     "data": {
      "text/plain": "CSI(\n  (capture): Capture(\n    (input_embedding): Sequential(\n      (0): Linear(in_features=122, out_features=100, bias=True)\n      (1): Tanh()\n    )\n    (lstm): LSTM(100, 100, batch_first=True)\n    (output_embedding): Sequential(\n      (0): Linear(in_features=100, out_features=50, bias=True)\n      (1): Tanh()\n    )\n  )\n  (score): Score(\n    (user_embedding): Sequential(\n      (0): Linear(in_features=50, out_features=50, bias=True)\n      (1): Tanh()\n    )\n    (user_score): Sequential(\n      (0): Linear(in_features=50, out_features=1, bias=True)\n      (1): Sigmoid()\n    )\n  )\n  (integrate): Integrate(\n    (net): Sequential(\n      (0): Linear(in_features=51, out_features=1, bias=True)\n    )\n  )\n)"
     },
     "execution_count": 34,
     "metadata": {},
     "output_type": "execute_result"
    }
   ],
   "source": [
    "device = \"cuda\" if torch.cuda.is_available() else \"cpu\"\n",
    "csi = CSI(122, 100, 100, 50, 50, 50)\n",
    "csi.load_state_dict(torch.load(f\"models/csi.pt\", map_location=torch.device('cpu')))\n",
    "csi.to(device)"
   ],
   "metadata": {
    "collapsed": false,
    "pycharm": {
     "name": "#%%\n"
    }
   }
  },
  {
   "cell_type": "code",
   "execution_count": 31,
   "outputs": [],
   "source": [
    "def grouper(iterable, n):\n",
    "    iterable = iter(iterable)\n",
    "    try:\n",
    "        while True:\n",
    "            yield list(chain((next(iterable),), islice(iterable, n - 1)))\n",
    "    except StopIteration:\n",
    "        return\n",
    "index_list = list(range(len(fake_news_data)))"
   ],
   "metadata": {
    "collapsed": false,
    "pycharm": {
     "name": "#%%\n"
    }
   }
  },
  {
   "cell_type": "code",
   "execution_count": 52,
   "outputs": [
    {
     "name": "stdout",
     "output_type": "stream",
     "text": [
      "Batch 1/21: 0.2018938511610031\n",
      "Epoch 1/10: 0.18743291958456948\n",
      "Batch 1/21: 0.08315072953701019\n",
      "Epoch 2/10: 0.1101628149016982\n",
      "Batch 1/21: 0.03916238248348236\n",
      "Epoch 3/10: 0.08473625353404454\n",
      "Batch 1/21: 0.04589641094207764\n",
      "Epoch 4/10: 0.07845223349119936\n",
      "Batch 1/21: 0.015788085758686066\n",
      "Epoch 5/10: 0.07068554400688126\n",
      "Batch 1/21: 0.029216861352324486\n",
      "Epoch 6/10: 0.05664382972532794\n",
      "Batch 1/21: 0.05986647307872772\n",
      "Epoch 7/10: 0.0640338005586749\n",
      "Batch 1/21: 0.07190493494272232\n",
      "Epoch 8/10: 0.056665426741043724\n",
      "Batch 1/21: 0.005099854432046413\n",
      "Epoch 9/10: 0.04383390307581673\n",
      "Batch 1/21: 0.03523223102092743\n",
      "Epoch 10/10: 0.02362060153834699\n"
     ]
    }
   ],
   "source": [
    "batch_size = 48\n",
    "n_epochs = 10\n",
    "n_batches = int(len(fake_news_data) / batch_size + 1)\n",
    "csi.train()\n",
    "optimizer = torch.optim.Adam(csi.parameters(), lr=0.003)\n",
    "criterion = nn.BCEWithLogitsLoss()\n",
    "for i_epoch in range(n_epochs):\n",
    "    random.shuffle(index_list)\n",
    "    epoch_loss = 0\n",
    "    for i_batch, indices in enumerate(grouper(index_list, batch_size)):\n",
    "        labels = []\n",
    "        outputs = []\n",
    "        for idx in indices:\n",
    "            x, y, label = fake_news_data[idx]\n",
    "            x = x.unsqueeze(0).to(device)\n",
    "            y = y.unsqueeze(0).to(device)\n",
    "            label = torch.FloatTensor([[int(label)]]).to(device)\n",
    "            output = csi(x, y)\n",
    "            labels.append(label)\n",
    "            outputs.append(output)\n",
    "        labels = torch.vstack(labels)\n",
    "        outputs = torch.vstack(outputs)\n",
    "        # print(outputs, labels)\n",
    "        loss = criterion(outputs, labels)\n",
    "        optimizer.zero_grad()\n",
    "        loss.backward()\n",
    "        optimizer.step()\n",
    "        epoch_loss += loss.item()\n",
    "        if i_batch % 25 == 0:\n",
    "            print(f\"Batch {i_batch + 1}/{n_batches}: {loss.item()}\")\n",
    "    if i_epoch % 1 == 0:\n",
    "        print(f\"Epoch {i_epoch + 1}/{n_epochs}: {epoch_loss / n_batches}\")"
   ],
   "metadata": {
    "collapsed": false,
    "pycharm": {
     "name": "#%%\n"
    }
   }
  },
  {
   "cell_type": "code",
   "execution_count": 46,
   "outputs": [],
   "source": [
    "result = []\n",
    "for i in range(len(fake_news_data)):\n",
    "    x, y, label = fake_news_data[i]\n",
    "    x = x.unsqueeze(0).to(device)\n",
    "    y = y.unsqueeze(0).to(device)\n",
    "    label = int(label)\n",
    "    with torch.no_grad():\n",
    "        output = csi(x, y)\n",
    "    result.append((label, torch.sigmoid(output).item()))"
   ],
   "metadata": {
    "collapsed": false,
    "pycharm": {
     "name": "#%%\n"
    }
   }
  },
  {
   "cell_type": "code",
   "execution_count": 48,
   "outputs": [],
   "source": [
    "count = 0\n",
    "for label, p_label in result:\n",
    "    p_label = round(p_label)\n",
    "    if p_label == label:\n",
    "        count += 1"
   ],
   "metadata": {
    "collapsed": false,
    "pycharm": {
     "name": "#%%\n"
    }
   }
  },
  {
   "cell_type": "code",
   "execution_count": 50,
   "outputs": [
    {
     "data": {
      "text/plain": "0.9375"
     },
     "execution_count": 50,
     "metadata": {},
     "output_type": "execute_result"
    }
   ],
   "source": [
    "count / len(fake_news_data)"
   ],
   "metadata": {
    "collapsed": false,
    "pycharm": {
     "name": "#%%\n"
    }
   }
  },
  {
   "cell_type": "code",
   "execution_count": 51,
   "outputs": [],
   "source": [
    "torch.save(csi.state_dict(), f\"models/csi.pt\")"
   ],
   "metadata": {
    "collapsed": false,
    "pycharm": {
     "name": "#%%\n"
    }
   }
  }
 ],
 "metadata": {
  "kernelspec": {
   "display_name": "Python 3",
   "language": "python",
   "name": "python3"
  },
  "language_info": {
   "codemirror_mode": {
    "name": "ipython",
    "version": 2
   },
   "file_extension": ".py",
   "mimetype": "text/x-python",
   "name": "python",
   "nbconvert_exporter": "python",
   "pygments_lexer": "ipython2",
   "version": "2.7.6"
  }
 },
 "nbformat": 4,
 "nbformat_minor": 0
}