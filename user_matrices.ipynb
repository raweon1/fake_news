{
 "cells": [
  {
   "cell_type": "code",
   "execution_count": 88,
   "metadata": {
    "collapsed": true
   },
   "outputs": [],
   "source": [
    "import numpy as np\n",
    "import pandas as pd\n",
    "import utils\n",
    "from sklearn.utils.extmath import randomized_svd\n",
    "from pathlib import Path\n",
    "from collections import defaultdict"
   ]
  },
  {
   "cell_type": "code",
   "execution_count": 2,
   "outputs": [],
   "source": [
    "eids, labels, twitter_ids = utils.get_twitter_conversations(\"data/Twitter.txt\")"
   ],
   "metadata": {
    "collapsed": false,
    "pycharm": {
     "name": "#%%\n"
    }
   }
  },
  {
   "cell_type": "code",
   "execution_count": 3,
   "outputs": [],
   "source": [
    "dfs = []\n",
    "for i in range(22):\n",
    "    dfs.append(pd.read_csv(f\"data/Twitter/{eids[i]}.csv\").drop([\"Unnamed: 0\"], axis=1))"
   ],
   "metadata": {
    "collapsed": false,
    "pycharm": {
     "name": "#%%\n"
    }
   }
  },
  {
   "cell_type": "code",
   "execution_count": 5,
   "outputs": [
    {
     "data": {
      "text/plain": "0       18235216\n1       18235216\n2      799246688\n3       13719342\n4      204428239\n         ...    \n74      10796562\n75     477066816\n76    2484679886\n77    2331758420\n78     552221011\nName: author_id, Length: 79, dtype: int64"
     },
     "execution_count": 5,
     "metadata": {},
     "output_type": "execute_result"
    }
   ],
   "source": [
    "dfs[0].author_id"
   ],
   "metadata": {
    "collapsed": false,
    "pycharm": {
     "name": "#%%\n"
    }
   }
  },
  {
   "cell_type": "code",
   "execution_count": 58,
   "outputs": [],
   "source": [
    "authors = pd.concat([df.author_id for df in dfs], ignore_index=True)\n",
    "authors, count = np.unique(authors, return_counts=True)\n",
    "n_authors = len(authors)"
   ],
   "metadata": {
    "collapsed": false,
    "pycharm": {
     "name": "#%%\n"
    }
   }
  },
  {
   "cell_type": "code",
   "execution_count": 61,
   "outputs": [
    {
     "data": {
      "text/plain": "array([ 2,  2,  2,  2,  2,  2,  2,  2,  2,  2,  2,  2,  2,  2, 17, 24,  3,\n        2,  9,  2,  2, 11,  2,  2,  2,  2,  2,  2,  2,  3, 18,  3,  2,  2,\n        2,  4, 17,  2,  2,  2,  3,  2,  2,  2,  2,  3,  2,  2,  4,  2,  2,\n        2,  3,  2, 18,  3,  2,  2,  4,  3,  2,  2,  2,  3,  3,  3,  3,  2,\n        3,  3,  2,  3,  2,  3,  2,  2,  2,  3,  3,  2,  3,  3,  2,  2,  2,\n        2,  2,  3,  2,  2,  3,  7,  2,  2,  2,  5,  2,  9,  2,  2,  4,  2,\n        2,  2,  2,  2,  2,  2,  2,  2,  4,  3,  3,  5,  2,  2,  2,  3,  2,\n        2,  2,  2,  2,  2,  2,  2,  2,  3,  2,  2,  2,  2,  2,  3,  3,  2,\n        6,  2,  4,  3, 10, 12,  2,  2,  4,  2,  2,  9,  2,  2,  2,  3,  2,\n        3,  6,  4,  2,  4,  2,  2,  2,  3,  3,  2,  3,  5,  2,  2,  2,  3,\n        7,  2,  2,  2,  2, 11,  2,  2,  2,  2, 10,  2,  3,  2,  3,  2,  2,\n        3,  2,  4,  2,  2,  2,  3,  2,  2,  2,  2,  2,  2,  2,  2,  2,  2,\n        4,  2,  2,  3,  2,  2,  3,  2,  2,  2,  2,  2,  2,  2,  3,  3,  2,\n        2,  2,  2,  5,  2,  3,  2,  2,  2,  2,  2,  2,  2,  2,  2,  2,  2,\n        4,  2,  2,  6,  2,  2,  2,  2,  2,  2,  2,  2,  3,  2,  2,  2,  2,\n        2,  2,  2,  2,  2,  4,  2,  2,  2,  2,  3,  2,  2,  2,  2,  3,  2,\n        2,  2,  3,  2,  2,  2,  2,  3,  3,  2,  2,  2,  2,  2,  2,  6,  2,\n        2,  3,  2,  2,  3,  2,  2,  2,  3,  2,  4,  2,  2,  3,  3,  2,  2,\n        2, 11,  3,  2,  2, 16,  2,  2,  2,  2,  5,  2,  3,  5,  3,  2,  2,\n        2,  2,  4,  2,  2,  2,  2,  2,  2,  2,  2,  2,  2,  2,  2,  4,  2,\n        2,  5,  2,  2,  3,  3,  2,  2,  2,  2,  4,  2,  2,  2,  2,  2,  2,\n        2,  5,  3,  2, 12,  2,  2,  3,  2,  2,  2,  2,  2,  2,  2,  2,  4,\n        2,  2,  2,  2,  2,  2,  3,  2, 10,  3,  2,  5,  2,  2,  3,  2,  2,\n        3,  2,  2,  2,  2,  2,  4,  2,  2, 17,  2,  2,  2,  2,  2,  2,  2,\n        2,  3,  2,  2,  2,  6,  2,  2,  2,  3,  2,  7,  2,  3,  2, 35,  2,\n        4,  3,  2,  2,  2,  2,  5,  2,  2,  4,  2, 12,  4,  3,  2, 12,  3],\n      dtype=int64)"
     },
     "execution_count": 61,
     "metadata": {},
     "output_type": "execute_result"
    }
   ],
   "source": [
    "count[count > 1]"
   ],
   "metadata": {
    "collapsed": false,
    "pycharm": {
     "name": "#%%\n"
    }
   }
  },
  {
   "cell_type": "code",
   "execution_count": 14,
   "outputs": [],
   "source": [
    "author_id_dict = {}\n",
    "for i, author in enumerate(authors):\n",
    "    author_id_dict[author] = i"
   ],
   "metadata": {
    "collapsed": false,
    "pycharm": {
     "name": "#%%\n"
    }
   }
  },
  {
   "cell_type": "code",
   "execution_count": 43,
   "outputs": [],
   "source": [
    "n_doc = 22\n",
    "m = np.zeros((n_authors, n_doc))"
   ],
   "metadata": {
    "collapsed": false,
    "pycharm": {
     "name": "#%%\n"
    }
   }
  },
  {
   "cell_type": "code",
   "execution_count": 44,
   "outputs": [],
   "source": [
    "for i, df in enumerate(dfs):\n",
    "    author_idx = [author_id_dict[author] for author in df.author_id]\n",
    "    m[author_idx, i] = 1"
   ],
   "metadata": {
    "collapsed": false,
    "pycharm": {
     "name": "#%%\n"
    }
   }
  },
  {
   "cell_type": "code",
   "execution_count": 56,
   "outputs": [],
   "source": [
    "u,s,v = randomized_svd(m, n_components=10, n_iter=7, random_state=42)"
   ],
   "metadata": {
    "collapsed": false,
    "pycharm": {
     "name": "#%%\n"
    }
   }
  },
  {
   "cell_type": "code",
   "execution_count": 57,
   "outputs": [
    {
     "data": {
      "text/plain": "(4521, 10)"
     },
     "execution_count": 57,
     "metadata": {},
     "output_type": "execute_result"
    }
   ],
   "source": [
    "np.dot(u, np.diag(s)).shape"
   ],
   "metadata": {
    "collapsed": false,
    "pycharm": {
     "name": "#%%\n"
    }
   }
  },
  {
   "cell_type": "code",
   "execution_count": 114,
   "outputs": [],
   "source": [
    "def get_twitter_from_dir(dir):\n",
    "    files = list(Path(dir).glob(\"*.csv\"))\n",
    "    eids = []\n",
    "    dfs = []\n",
    "    for f in files:\n",
    "        # df = df.reindex(sorted(df.columns), axis=1)\n",
    "        eids.append(f.stem)\n",
    "        dfs.append(pd.read_csv(f))\n",
    "    return eids, dfs\n",
    "\n",
    "#eids, dfs = get_twitter_from_dir(\"data/Twitter/\")"
   ],
   "metadata": {
    "collapsed": false,
    "pycharm": {
     "name": "#%%\n"
    }
   }
  },
  {
   "cell_type": "code",
   "execution_count": 98,
   "outputs": [],
   "source": [
    "def get_user_engagement(eids, dfs):\n",
    "    user_id = {}\n",
    "    eid_engagement = {}\n",
    "    for eid, df in zip(eids, dfs):\n",
    "        engagement = {}\n",
    "        count = df[\"author_id\"].value_counts()\n",
    "        for index, c in count.iteritems():\n",
    "            try:\n",
    "                u_id = user_id[index]\n",
    "            except KeyError:\n",
    "                u_id = len(user_id)\n",
    "                user_id[index] = u_id\n",
    "            engagement[u_id] = c\n",
    "        eid_engagement[eid] = engagement\n",
    "\n",
    "    return user_id, eid_engagement\n",
    "\n",
    "user_dict, engagement = get_user_engagement(eids, dfs)"
   ],
   "metadata": {
    "collapsed": false,
    "pycharm": {
     "name": "#%%\n"
    }
   }
  },
  {
   "cell_type": "code",
   "execution_count": 109,
   "outputs": [],
   "source": [
    "def get_matrix_from_engagement(user_id, engagement):\n",
    "    m = np.zeros((len(user_id), len(engagement)))\n",
    "    for i, val in enumerate(engagement.values()):\n",
    "        m[list(val.keys()), i] = list(val.values())\n",
    "    return m, np.clip(m, 0, 1)\n",
    "\n",
    "user_mat, user_article_mat = get_matrix_from_engagement(user_dict, engagement)"
   ],
   "metadata": {
    "collapsed": false,
    "pycharm": {
     "name": "#%%\n"
    }
   }
  },
  {
   "cell_type": "code",
   "execution_count": 112,
   "outputs": [
    {
     "data": {
      "text/plain": "array([[2.71331346e-03, 4.14388831e-04, 4.91648326e-02, ...,\n        2.32631888e-01, 2.16046345e-01, 5.17130943e-01],\n       [2.71331346e-03, 4.14388831e-04, 4.91648326e-02, ...,\n        2.32631888e-01, 2.16046345e-01, 5.17130943e-01],\n       [2.28862688e-02, 1.22755569e-02, 6.55109011e-01, ...,\n        7.07769406e-01, 6.49125403e-01, 1.24303116e+00],\n       ...,\n       [7.41105841e-04, 3.51695693e-04, 3.97647564e-02, ...,\n        1.20563391e-01, 1.10140572e-01, 1.85311725e-01],\n       [7.41105841e-04, 3.51695693e-04, 3.97647564e-02, ...,\n        1.20563391e-01, 1.10140572e-01, 1.85311725e-01],\n       [7.41105841e-04, 3.51695693e-04, 3.97647564e-02, ...,\n        1.20563391e-01, 1.10140572e-01, 1.85311725e-01]])"
     },
     "execution_count": 112,
     "metadata": {},
     "output_type": "execute_result"
    }
   ],
   "source": [
    "def get_reduced_svm_mat(mat, k_dim, random_state=42):\n",
    "    u, s, vt = randomized_svd(mat, n_components=k_dim, random_state=random_state)\n",
    "    return u.dot(np.diag(s))\n",
    "\n",
    "get_reduced_svm_mat(user_article_mat, 10)"
   ],
   "metadata": {
    "collapsed": false,
    "pycharm": {
     "name": "#%%\n"
    }
   }
  },
  {
   "cell_type": "code",
   "execution_count": 115,
   "outputs": [
    {
     "data": {
      "text/plain": "(array([[ 1.26640704e-02,  5.56844689e-03, -8.21037344e-05, ...,\n          5.72974196e-02,  1.40018374e-01,  1.07380362e+00],\n        [ 1.26640704e-02,  5.56844689e-03, -8.21037343e-05, ...,\n          5.72974196e-02,  1.40018374e-01,  1.07380362e+00],\n        [ 2.05533950e+00,  1.79618333e-03, -2.29091239e-03, ...,\n          2.54822749e-01,  4.99712253e-01,  3.49806976e+00],\n        ...,\n        [ 4.90517858e-03,  7.44784183e-04, -2.80940497e-06, ...,\n          2.50154138e-02,  4.46212818e-02,  2.38419088e-01],\n        [ 4.90517858e-03,  7.44784183e-04, -2.80940497e-06, ...,\n          2.50154138e-02,  4.46212818e-02,  2.38419088e-01],\n        [ 4.90517858e-03,  7.44784183e-04, -2.80940497e-06, ...,\n          2.50154138e-02,  4.46212818e-02,  2.38419088e-01]]),\n array([[2.71331346e-03, 4.14388831e-04, 4.91648326e-02, ...,\n         2.32631888e-01, 2.16046345e-01, 5.17130943e-01],\n        [2.71331346e-03, 4.14388831e-04, 4.91648326e-02, ...,\n         2.32631888e-01, 2.16046345e-01, 5.17130943e-01],\n        [2.28862688e-02, 1.22755569e-02, 6.55109011e-01, ...,\n         7.07769406e-01, 6.49125403e-01, 1.24303116e+00],\n        ...,\n        [7.41105841e-04, 3.51695693e-04, 3.97647564e-02, ...,\n         1.20563391e-01, 1.10140572e-01, 1.85311725e-01],\n        [7.41105841e-04, 3.51695693e-04, 3.97647564e-02, ...,\n         1.20563391e-01, 1.10140572e-01, 1.85311725e-01],\n        [7.41105841e-04, 3.51695693e-04, 3.97647564e-02, ...,\n         1.20563391e-01, 1.10140572e-01, 1.85311725e-01]]))"
     },
     "execution_count": 115,
     "metadata": {},
     "output_type": "execute_result"
    }
   ],
   "source": [
    "def get_user_matrices(dir, n_components, random_state=42, return_user_dict=True):\n",
    "    eids, dfs = get_twitter_from_dir(dir)\n",
    "    user_dict, engagement = get_user_engagement(eids, dfs)\n",
    "    user_mat, user_article_mat = get_matrix_from_engagement(user_dict, engagement)\n",
    "    user_mat_reduced = get_reduced_svm_mat(user_mat, n_components[0])\n",
    "    user_article_mat_reduced = get_reduced_svm_mat(user_article_mat, n_components[1])\n",
    "    return user_mat_reduced, user_article_mat_reduced\n",
    "\n",
    "get_user_matrices(\"data/Twitter/\", (10, 10))"
   ],
   "metadata": {
    "collapsed": false,
    "pycharm": {
     "name": "#%%\n"
    }
   }
  }
 ],
 "metadata": {
  "kernelspec": {
   "display_name": "Python 3",
   "language": "python",
   "name": "python3"
  },
  "language_info": {
   "codemirror_mode": {
    "name": "ipython",
    "version": 2
   },
   "file_extension": ".py",
   "mimetype": "text/x-python",
   "name": "python",
   "nbconvert_exporter": "python",
   "pygments_lexer": "ipython2",
   "version": "2.7.6"
  }
 },
 "nbformat": 4,
 "nbformat_minor": 0
}