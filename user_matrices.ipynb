{
 "cells": [
  {
   "cell_type": "code",
   "execution_count": 1,
   "metadata": {
    "collapsed": true
   },
   "outputs": [],
   "source": [
    "import numpy as np\n",
    "import pandas as pd\n",
    "import utils\n",
    "from sklearn.utils.extmath import randomized_svd\n",
    "from pathlib import Path\n",
    "from collections import defaultdict\n",
    "import json"
   ]
  },
  {
   "cell_type": "code",
   "execution_count": 2,
   "outputs": [],
   "source": [
    "def get_user_engagement(eids, dfs):\n",
    "    user_id = {}\n",
    "    eid_engagement = {}\n",
    "    for eid, df in zip(eids, dfs):\n",
    "        engagement = {}\n",
    "        count = df[\"author_id\"].value_counts()\n",
    "        for index, c in count.iteritems():\n",
    "            try:\n",
    "                u_id = user_id[index]\n",
    "            except KeyError:\n",
    "                u_id = len(user_id)\n",
    "                user_id[index] = u_id\n",
    "            engagement[u_id] = c\n",
    "        eid_engagement[eid] = engagement\n",
    "\n",
    "    return user_id, eid_engagement\n",
    "\n",
    "def get_matrix_from_engagement(user_id, engagement):\n",
    "    m = np.zeros((len(user_id), len(engagement)))\n",
    "    for i, val in enumerate(engagement.values()):\n",
    "        m[list(val.keys()), i] = list(val.values())\n",
    "    return m, np.clip(m, 0, 1)\n",
    "\n",
    "def get_reduced_svm_mat(mat, k_dim, random_state=42):\n",
    "    u, s, vt = randomized_svd(mat, n_components=k_dim, random_state=random_state)\n",
    "    return u.dot(np.diag(s))\n"
   ],
   "metadata": {
    "collapsed": false,
    "pycharm": {
     "name": "#%%\n"
    }
   }
  },
  {
   "cell_type": "code",
   "execution_count": 13,
   "outputs": [],
   "source": [
    "eids, dfs = utils.get_twitter_from_dir(\"data/Twitter/\", 5, [\"author_id\"])\n",
    "user_dict, engagement = get_user_engagement(eids, dfs)\n",
    "user_mat, user_article_mat = get_matrix_from_engagement(user_dict, engagement)\n",
    "\n",
    "get_reduced_svm_mat(user_article_mat, 10).shape"
   ],
   "metadata": {
    "collapsed": false,
    "pycharm": {
     "name": "#%%\n"
    }
   }
  },
  {
   "cell_type": "code",
   "execution_count": 14,
   "outputs": [
    {
     "name": "stdout",
     "output_type": "stream",
     "text": [
      "[2. 0. 0. 0. 0. 0.]\n",
      "[1. 0. 0. 0. 0. 0.]\n"
     ]
    }
   ],
   "source": [
    "print(user_mat[0])\n",
    "print(user_article_mat[0])"
   ],
   "metadata": {
    "collapsed": false,
    "pycharm": {
     "name": "#%%\n"
    }
   }
  },
  {
   "cell_type": "code",
   "execution_count": 3,
   "outputs": [],
   "source": [
    "def get_user_matrices(dir, n_components, random_state=42, return_user_dict=True):\n",
    "    eids, dfs = utils.get_twitter_from_dir(dir, columns=[\"author_id\"])\n",
    "    user_dict, engagement = get_user_engagement(eids, dfs)\n",
    "    user_mat, user_bin_mat = get_matrix_from_engagement(user_dict, engagement)\n",
    "    user_mat_reduced = get_reduced_svm_mat(user_mat, n_components[0], random_state)\n",
    "    user_bin_mat_reduced = get_reduced_svm_mat(user_bin_mat, n_components[1], random_state)\n",
    "    if return_user_dict:\n",
    "        return user_mat_reduced, user_bin_mat_reduced, user_dict\n",
    "    return user_mat_reduced, user_bin_mat_reduced\n",
    "\n",
    "user_mat, user_bin_mat, user_dict = get_user_matrices(\"data/Twitter/\", (50, 20))"
   ],
   "metadata": {
    "collapsed": false,
    "pycharm": {
     "name": "#%%\n"
    }
   }
  },
  {
   "cell_type": "code",
   "execution_count": 4,
   "outputs": [],
   "source": [
    "np.savez(\"models/user_matrices\", user_mat=user_mat, user_bin_mat=user_bin_mat)"
   ],
   "metadata": {
    "collapsed": false,
    "pycharm": {
     "name": "#%%\n"
    }
   }
  },
  {
   "cell_type": "code",
   "execution_count": 5,
   "outputs": [],
   "source": [
    "with open(\"models/user_dict.json\", \"w\") as file:\n",
    "    json.dump(user_dict, file, indent=4)"
   ],
   "metadata": {
    "collapsed": false,
    "pycharm": {
     "name": "#%%\n"
    }
   }
  }
 ],
 "metadata": {
  "kernelspec": {
   "display_name": "Python 3",
   "language": "python",
   "name": "python3"
  },
  "language_info": {
   "codemirror_mode": {
    "name": "ipython",
    "version": 2
   },
   "file_extension": ".py",
   "mimetype": "text/x-python",
   "name": "python",
   "nbconvert_exporter": "python",
   "pygments_lexer": "ipython2",
   "version": "2.7.6"
  }
 },
 "nbformat": 4,
 "nbformat_minor": 0
}